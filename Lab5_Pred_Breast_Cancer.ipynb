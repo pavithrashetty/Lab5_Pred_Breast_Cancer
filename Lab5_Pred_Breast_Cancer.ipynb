{
 "metadata": {
  "name": "",
  "signature": "sha256:4187d8d0d173a137d842ba2a269d2dbab358a71f9224d680ec89ac54182504e5"
 },
 "nbformat": 3,
 "nbformat_minor": 0,
 "worksheets": [
  {
   "cells": [
    {
     "cell_type": "markdown",
     "metadata": {},
     "source": [
      "#Predicting Breast Cancer\n",
      "Building a \"Random Forest Classifier\" to predict malignant tumors in breast tissue.\n",
      "\n",
      "###Data Preparation\n",
      "Let me start with some data preparation to get data ready to be used in a model."
     ]
    },
    {
     "cell_type": "code",
     "collapsed": false,
     "input": [
      "%matplotlib inline\n",
      "%pylab inline"
     ],
     "language": "python",
     "metadata": {},
     "outputs": [
      {
       "output_type": "stream",
       "stream": "stdout",
       "text": [
        "Populating the interactive namespace from numpy and matplotlib\n"
       ]
      }
     ],
     "prompt_number": 1
    },
    {
     "cell_type": "code",
     "collapsed": false,
     "input": [
      "from sklearn.ensemble import RandomForestClassifier\n",
      "\n",
      "# The error metric. In this case, we will use c-stat \n",
      "from sklearn.metrics import roc_auc_score\n",
      "\n",
      "# An efficient data structure. \n",
      "import pandas as pd\n",
      "\n",
      "# Import the data\n",
      "X = pd.read_csv(\"breast_cancer.csv\")\n",
      "y = X.pop(\"malignant\")"
     ],
     "language": "python",
     "metadata": {},
     "outputs": [],
     "prompt_number": 2
    },
    {
     "cell_type": "code",
     "collapsed": false,
     "input": [
      "X.describe()"
     ],
     "language": "python",
     "metadata": {},
     "outputs": [
      {
       "html": [
        "<div style=\"max-height:1000px;max-width:1500px;overflow:auto;\">\n",
        "<table border=\"1\" class=\"dataframe\">\n",
        "  <thead>\n",
        "    <tr style=\"text-align: right;\">\n",
        "      <th></th>\n",
        "      <th>Unnamed: 0</th>\n",
        "      <th>id number</th>\n",
        "      <th>clump_thickness</th>\n",
        "      <th>uniformity_of_cell_size</th>\n",
        "      <th>uniformity_of_cell_shape</th>\n",
        "      <th>marginal_adhesion</th>\n",
        "      <th>epithelial_cell_size</th>\n",
        "      <th>bare_nuclei</th>\n",
        "      <th>bland_chromatin</th>\n",
        "      <th>normal_nucleoli</th>\n",
        "      <th>mitoses</th>\n",
        "    </tr>\n",
        "  </thead>\n",
        "  <tbody>\n",
        "    <tr>\n",
        "      <th>count</th>\n",
        "      <td> 699.000000</td>\n",
        "      <td>      699.000000</td>\n",
        "      <td> 699.000000</td>\n",
        "      <td> 699.000000</td>\n",
        "      <td> 699.000000</td>\n",
        "      <td> 699.000000</td>\n",
        "      <td> 699.000000</td>\n",
        "      <td> 699.000000</td>\n",
        "      <td> 699.000000</td>\n",
        "      <td> 699.000000</td>\n",
        "      <td> 699.000000</td>\n",
        "    </tr>\n",
        "    <tr>\n",
        "      <th>mean</th>\n",
        "      <td> 349.000000</td>\n",
        "      <td>  1071704.098712</td>\n",
        "      <td>   4.417740</td>\n",
        "      <td>   3.134478</td>\n",
        "      <td>   3.207439</td>\n",
        "      <td>   2.806867</td>\n",
        "      <td>   3.216023</td>\n",
        "      <td>   3.440629</td>\n",
        "      <td>   3.437768</td>\n",
        "      <td>   2.866953</td>\n",
        "      <td>   1.589413</td>\n",
        "    </tr>\n",
        "    <tr>\n",
        "      <th>std</th>\n",
        "      <td> 201.928205</td>\n",
        "      <td>   617095.729819</td>\n",
        "      <td>   2.815741</td>\n",
        "      <td>   3.051459</td>\n",
        "      <td>   2.971913</td>\n",
        "      <td>   2.855379</td>\n",
        "      <td>   2.214300</td>\n",
        "      <td>   3.665507</td>\n",
        "      <td>   2.438364</td>\n",
        "      <td>   3.053634</td>\n",
        "      <td>   1.715078</td>\n",
        "    </tr>\n",
        "    <tr>\n",
        "      <th>min</th>\n",
        "      <td>   0.000000</td>\n",
        "      <td>    61634.000000</td>\n",
        "      <td>   1.000000</td>\n",
        "      <td>   1.000000</td>\n",
        "      <td>   1.000000</td>\n",
        "      <td>   1.000000</td>\n",
        "      <td>   1.000000</td>\n",
        "      <td>  -1.000000</td>\n",
        "      <td>   1.000000</td>\n",
        "      <td>   1.000000</td>\n",
        "      <td>   1.000000</td>\n",
        "    </tr>\n",
        "    <tr>\n",
        "      <th>25%</th>\n",
        "      <td> 174.500000</td>\n",
        "      <td>   870688.500000</td>\n",
        "      <td>   2.000000</td>\n",
        "      <td>   1.000000</td>\n",
        "      <td>   1.000000</td>\n",
        "      <td>   1.000000</td>\n",
        "      <td>   2.000000</td>\n",
        "      <td>   1.000000</td>\n",
        "      <td>   2.000000</td>\n",
        "      <td>   1.000000</td>\n",
        "      <td>   1.000000</td>\n",
        "    </tr>\n",
        "    <tr>\n",
        "      <th>50%</th>\n",
        "      <td> 349.000000</td>\n",
        "      <td>  1171710.000000</td>\n",
        "      <td>   4.000000</td>\n",
        "      <td>   1.000000</td>\n",
        "      <td>   1.000000</td>\n",
        "      <td>   1.000000</td>\n",
        "      <td>   2.000000</td>\n",
        "      <td>   1.000000</td>\n",
        "      <td>   3.000000</td>\n",
        "      <td>   1.000000</td>\n",
        "      <td>   1.000000</td>\n",
        "    </tr>\n",
        "    <tr>\n",
        "      <th>75%</th>\n",
        "      <td> 523.500000</td>\n",
        "      <td>  1238298.000000</td>\n",
        "      <td>   6.000000</td>\n",
        "      <td>   5.000000</td>\n",
        "      <td>   5.000000</td>\n",
        "      <td>   4.000000</td>\n",
        "      <td>   4.000000</td>\n",
        "      <td>   5.000000</td>\n",
        "      <td>   5.000000</td>\n",
        "      <td>   4.000000</td>\n",
        "      <td>   1.000000</td>\n",
        "    </tr>\n",
        "    <tr>\n",
        "      <th>max</th>\n",
        "      <td> 698.000000</td>\n",
        "      <td> 13454352.000000</td>\n",
        "      <td>  10.000000</td>\n",
        "      <td>  10.000000</td>\n",
        "      <td>  10.000000</td>\n",
        "      <td>  10.000000</td>\n",
        "      <td>  10.000000</td>\n",
        "      <td>  10.000000</td>\n",
        "      <td>  10.000000</td>\n",
        "      <td>  10.000000</td>\n",
        "      <td>  10.000000</td>\n",
        "    </tr>\n",
        "  </tbody>\n",
        "</table>\n",
        "</div>"
       ],
       "metadata": {},
       "output_type": "pyout",
       "prompt_number": 3,
       "text": [
        "       Unnamed: 0        id number  clump_thickness  uniformity_of_cell_size  \\\n",
        "count  699.000000       699.000000       699.000000               699.000000   \n",
        "mean   349.000000   1071704.098712         4.417740                 3.134478   \n",
        "std    201.928205    617095.729819         2.815741                 3.051459   \n",
        "min      0.000000     61634.000000         1.000000                 1.000000   \n",
        "25%    174.500000    870688.500000         2.000000                 1.000000   \n",
        "50%    349.000000   1171710.000000         4.000000                 1.000000   \n",
        "75%    523.500000   1238298.000000         6.000000                 5.000000   \n",
        "max    698.000000  13454352.000000        10.000000                10.000000   \n",
        "\n",
        "       uniformity_of_cell_shape  marginal_adhesion  epithelial_cell_size  \\\n",
        "count                699.000000         699.000000            699.000000   \n",
        "mean                   3.207439           2.806867              3.216023   \n",
        "std                    2.971913           2.855379              2.214300   \n",
        "min                    1.000000           1.000000              1.000000   \n",
        "25%                    1.000000           1.000000              2.000000   \n",
        "50%                    1.000000           1.000000              2.000000   \n",
        "75%                    5.000000           4.000000              4.000000   \n",
        "max                   10.000000          10.000000             10.000000   \n",
        "\n",
        "       bare_nuclei  bland_chromatin  normal_nucleoli     mitoses  \n",
        "count   699.000000       699.000000       699.000000  699.000000  \n",
        "mean      3.440629         3.437768         2.866953    1.589413  \n",
        "std       3.665507         2.438364         3.053634    1.715078  \n",
        "min      -1.000000         1.000000         1.000000    1.000000  \n",
        "25%       1.000000         2.000000         1.000000    1.000000  \n",
        "50%       1.000000         3.000000         1.000000    1.000000  \n",
        "75%       5.000000         5.000000         4.000000    1.000000  \n",
        "max      10.000000        10.000000        10.000000   10.000000  "
       ]
      }
     ],
     "prompt_number": 3
    },
    {
     "cell_type": "code",
     "collapsed": false,
     "input": [
      "X.head()"
     ],
     "language": "python",
     "metadata": {},
     "outputs": [
      {
       "html": [
        "<div style=\"max-height:1000px;max-width:1500px;overflow:auto;\">\n",
        "<table border=\"1\" class=\"dataframe\">\n",
        "  <thead>\n",
        "    <tr style=\"text-align: right;\">\n",
        "      <th></th>\n",
        "      <th>Unnamed: 0</th>\n",
        "      <th>id number</th>\n",
        "      <th>clump_thickness</th>\n",
        "      <th>uniformity_of_cell_size</th>\n",
        "      <th>uniformity_of_cell_shape</th>\n",
        "      <th>marginal_adhesion</th>\n",
        "      <th>epithelial_cell_size</th>\n",
        "      <th>bare_nuclei</th>\n",
        "      <th>bland_chromatin</th>\n",
        "      <th>normal_nucleoli</th>\n",
        "      <th>mitoses</th>\n",
        "    </tr>\n",
        "  </thead>\n",
        "  <tbody>\n",
        "    <tr>\n",
        "      <th>0</th>\n",
        "      <td> 0</td>\n",
        "      <td> 1000025</td>\n",
        "      <td> 5</td>\n",
        "      <td> 1</td>\n",
        "      <td> 1</td>\n",
        "      <td> 1</td>\n",
        "      <td> 2</td>\n",
        "      <td>  1</td>\n",
        "      <td> 3</td>\n",
        "      <td> 1</td>\n",
        "      <td> 1</td>\n",
        "    </tr>\n",
        "    <tr>\n",
        "      <th>1</th>\n",
        "      <td> 1</td>\n",
        "      <td> 1002945</td>\n",
        "      <td> 5</td>\n",
        "      <td> 4</td>\n",
        "      <td> 4</td>\n",
        "      <td> 5</td>\n",
        "      <td> 7</td>\n",
        "      <td> 10</td>\n",
        "      <td> 3</td>\n",
        "      <td> 2</td>\n",
        "      <td> 1</td>\n",
        "    </tr>\n",
        "    <tr>\n",
        "      <th>2</th>\n",
        "      <td> 2</td>\n",
        "      <td> 1015425</td>\n",
        "      <td> 3</td>\n",
        "      <td> 1</td>\n",
        "      <td> 1</td>\n",
        "      <td> 1</td>\n",
        "      <td> 2</td>\n",
        "      <td>  2</td>\n",
        "      <td> 3</td>\n",
        "      <td> 1</td>\n",
        "      <td> 1</td>\n",
        "    </tr>\n",
        "    <tr>\n",
        "      <th>3</th>\n",
        "      <td> 3</td>\n",
        "      <td> 1016277</td>\n",
        "      <td> 6</td>\n",
        "      <td> 8</td>\n",
        "      <td> 8</td>\n",
        "      <td> 1</td>\n",
        "      <td> 3</td>\n",
        "      <td>  4</td>\n",
        "      <td> 3</td>\n",
        "      <td> 7</td>\n",
        "      <td> 1</td>\n",
        "    </tr>\n",
        "    <tr>\n",
        "      <th>4</th>\n",
        "      <td> 4</td>\n",
        "      <td> 1017023</td>\n",
        "      <td> 4</td>\n",
        "      <td> 1</td>\n",
        "      <td> 1</td>\n",
        "      <td> 3</td>\n",
        "      <td> 2</td>\n",
        "      <td>  1</td>\n",
        "      <td> 3</td>\n",
        "      <td> 1</td>\n",
        "      <td> 1</td>\n",
        "    </tr>\n",
        "  </tbody>\n",
        "</table>\n",
        "</div>"
       ],
       "metadata": {},
       "output_type": "pyout",
       "prompt_number": 4,
       "text": [
        "   Unnamed: 0  id number  clump_thickness  uniformity_of_cell_size  \\\n",
        "0           0    1000025                5                        1   \n",
        "1           1    1002945                5                        4   \n",
        "2           2    1015425                3                        1   \n",
        "3           3    1016277                6                        8   \n",
        "4           4    1017023                4                        1   \n",
        "\n",
        "   uniformity_of_cell_shape  marginal_adhesion  epithelial_cell_size  \\\n",
        "0                         1                  1                     2   \n",
        "1                         4                  5                     7   \n",
        "2                         1                  1                     2   \n",
        "3                         8                  1                     3   \n",
        "4                         1                  3                     2   \n",
        "\n",
        "   bare_nuclei  bland_chromatin  normal_nucleoli  mitoses  \n",
        "0            1                3                1        1  \n",
        "1           10                3                2        1  \n",
        "2            2                3                1        1  \n",
        "3            4                3                7        1  \n",
        "4            1                3                1        1  "
       ]
      }
     ],
     "prompt_number": 4
    },
    {
     "cell_type": "heading",
     "level": 6,
     "metadata": {},
     "source": [
      "\n",
      "I notice 'Unnamed: 0' and 'id number' looks like worthless variables. So, I'm going to drop those two variables.\n"
     ]
    },
    {
     "cell_type": "code",
     "collapsed": false,
     "input": [
      "# Drop the variables which seems not so important\n",
      "X.drop([\"Unnamed: 0\", \"id number\"], axis=1, inplace=True)"
     ],
     "language": "python",
     "metadata": {},
     "outputs": [],
     "prompt_number": 5
    },
    {
     "cell_type": "code",
     "collapsed": false,
     "input": [
      "#Let me consider uniformity_of_cell_shape and uniformity_of_cell_size as categorical variables.\n",
      "categorical_variables = ['uniformity_of_cell_shape', 'uniformity_of_cell_size']\n",
      "\n",
      "for variable in categorical_variables:\n",
      "    # Create array of dummies\n",
      "    dummies = pd.get_dummies(X[variable], prefix=variable)\n",
      "    # Update X to include dummies and drop the main variable\n",
      "    X = pd.concat([X, dummies], axis=1)\n",
      "    X.drop([variable], axis=1, inplace=True)"
     ],
     "language": "python",
     "metadata": {},
     "outputs": [],
     "prompt_number": 6
    },
    {
     "cell_type": "code",
     "collapsed": false,
     "input": [
      "# Make train and test datasets\n",
      "from sklearn.cross_validation import train_test_split\n",
      "import numpy as np\n",
      "np.random.seed(100)\n",
      "X_train, X_test, y_train, y_test = train_test_split(X, y, test_size=.25)"
     ],
     "language": "python",
     "metadata": {},
     "outputs": [],
     "prompt_number": 7
    },
    {
     "cell_type": "markdown",
     "metadata": {},
     "source": [
      "##Model Creation\n",
      "At this point I have a test and train set defined.  I will use train to train my model and test to see how accurate the model is.\n",
      "<B>Let's build our first model with default values for the parameter. "
     ]
    },
    {
     "cell_type": "code",
     "collapsed": false,
     "input": [
      "model = RandomForestClassifier(n_estimators=100, oob_score=True, random_state=42)\n",
      "model.fit(X_train, y_train)\n",
      "\n",
      "roc = roc_auc_score(y_test, model.predict(X_test))\n",
      "print \"C-stat: \", roc"
     ],
     "language": "python",
     "metadata": {},
     "outputs": [
      {
       "output_type": "stream",
       "stream": "stdout",
       "text": [
        "C-stat:  0.942857142857\n"
       ]
      }
     ],
     "prompt_number": 30
    },
    {
     "cell_type": "markdown",
     "metadata": {},
     "source": [
      "This is a pretty good model. Since we are dealing with predicting cancer we must built as good model as possible. So, it is better to try some different parameters for the model.\n",
      "\n",
      "###Parameter tests\n",
      "* ####Parameters to test are:\n",
      "    * <b>n_estimators</b>: The number of trees in the forest.\n",
      "    * <b>max_features</b>: The number of features to consider when looking for the best split.\n",
      "    * <b>min_samples_leaf</b>: The minimum number of samples in newly created leaves.\n",
      "    * <b>n_jobs</b>: Determines if multiple processors should be used to train and test the model."
     ]
    },
    {
     "cell_type": "heading",
     "level": 3,
     "metadata": {},
     "source": [
      "n_jobs"
     ]
    },
    {
     "cell_type": "code",
     "collapsed": false,
     "input": [
      "%%timeit\n",
      "model = RandomForestClassifier(1000, oob_score=True, n_jobs=1, random_state=42)\n",
      "model.fit(X_train, y_train)"
     ],
     "language": "python",
     "metadata": {},
     "outputs": [
      {
       "output_type": "stream",
       "stream": "stdout",
       "text": [
        "1 loops, best of 3: 686 ms per loop\n"
       ]
      }
     ],
     "prompt_number": 9
    },
    {
     "cell_type": "code",
     "collapsed": false,
     "input": [
      "%%timeit\n",
      "model = RandomForestClassifier(1000, oob_score=True, n_jobs=-1, random_state=42)\n",
      "model.fit(X_train, y_train)"
     ],
     "language": "python",
     "metadata": {},
     "outputs": [
      {
       "output_type": "stream",
       "stream": "stdout",
       "text": [
        "1 loops, best of 3: 871 ms per loop\n"
       ]
      }
     ],
     "prompt_number": 10
    },
    {
     "cell_type": "markdown",
     "metadata": {},
     "source": [
      "So, if we set n_jobs=1 as model takes less time per loop than n_job=-1. "
     ]
    },
    {
     "cell_type": "heading",
     "level": 3,
     "metadata": {},
     "source": [
      "n_estimators"
     ]
    },
    {
     "cell_type": "code",
     "collapsed": false,
     "input": [
      "results = []\n",
      "n_estimator_options = [30, 50, 100, 200, 500, 1000, 2000]\n",
      "\n",
      "for trees in n_estimator_options:\n",
      "    model = RandomForestClassifier(trees, oob_score=True, n_jobs=1, random_state=42)\n",
      "    model.fit(X_train, y_train)\n",
      "    print trees, \"trees\"\n",
      "    roc = roc_auc_score(y_test, model.predict(X_test))\n",
      "    print \"C-stat: \", roc\n",
      "    results.append(roc)\n",
      "    print \"\"\n",
      "    \n",
      "pd.Series(results, n_estimator_options).plot();"
     ],
     "language": "python",
     "metadata": {},
     "outputs": [
      {
       "output_type": "stream",
       "stream": "stdout",
       "text": [
        "30 trees\n",
        "C-stat:  0.95\n",
        "\n",
        "50 trees\n",
        "C-stat:  0.95\n",
        "\n",
        "100"
       ]
      },
      {
       "output_type": "stream",
       "stream": "stdout",
       "text": [
        " trees\n",
        "C-stat:  0.942857142857\n",
        "\n",
        "200"
       ]
      },
      {
       "output_type": "stream",
       "stream": "stdout",
       "text": [
        " trees\n",
        "C-stat:  0.95\n",
        "\n",
        "500"
       ]
      },
      {
       "output_type": "stream",
       "stream": "stdout",
       "text": [
        " trees\n",
        "C-stat:  0.95\n",
        "\n",
        "1000"
       ]
      },
      {
       "output_type": "stream",
       "stream": "stdout",
       "text": [
        " trees\n",
        "C-stat:  0.95\n",
        "\n",
        "2000"
       ]
      },
      {
       "output_type": "stream",
       "stream": "stdout",
       "text": [
        " trees\n",
        "C-stat: "
       ]
      },
      {
       "output_type": "stream",
       "stream": "stdout",
       "text": [
        " 0.95\n",
        "\n"
       ]
      },
      {
       "metadata": {},
       "output_type": "display_data",
       "png": "[encoded data removed]",
       "text": [
        "<matplotlib.figure.Figure at 0x9e3c048>"
       ]
      }
     ],
     "prompt_number": 11
    },
    {
     "cell_type": "markdown",
     "metadata": {},
     "source": [
      "As graph suggests It is better to choose n_estimater>200. So, let me take n_estimater=1000"
     ]
    },
    {
     "cell_type": "heading",
     "level": 3,
     "metadata": {},
     "source": [
      "max_features"
     ]
    },
    {
     "cell_type": "code",
     "collapsed": false,
     "input": [
      "results = []\n",
      "max_features_options = [\"auto\", None, \"sqrt\", \"log2\", 0.9, 0.2]\n",
      "\n",
      "for max_features in max_features_options:\n",
      "    model = RandomForestClassifier(n_estimators=1000, oob_score=True, n_jobs=1, random_state=42, max_features=max_features)\n",
      "    model.fit(X_train, y_train)\n",
      "    print max_features, \"option\"\n",
      "    roc = roc_auc_score(y_test, model.predict(X_test))\n",
      "    print \"C-stat: \", roc\n",
      "    results.append(roc)\n",
      "    print \"\"\n",
      "    \n",
      "pd.Series(results, max_features_options).plot(kind=\"barh\", xlim=(.85,.99));"
     ],
     "language": "python",
     "metadata": {},
     "outputs": [
      {
       "output_type": "stream",
       "stream": "stdout",
       "text": [
        "auto option\n",
        "C-stat:  0.95\n",
        "\n",
        "None"
       ]
      },
      {
       "output_type": "stream",
       "stream": "stdout",
       "text": [
        " option\n",
        "C-stat:  0.942857142857\n",
        "\n",
        "sqrt"
       ]
      },
      {
       "output_type": "stream",
       "stream": "stdout",
       "text": [
        " option\n",
        "C-stat:  0.95\n",
        "\n",
        "log2"
       ]
      },
      {
       "output_type": "stream",
       "stream": "stdout",
       "text": [
        " option\n",
        "C-stat:  0.95\n",
        "\n",
        "0.9"
       ]
      },
      {
       "output_type": "stream",
       "stream": "stdout",
       "text": [
        " option\n",
        "C-stat:  0.942857142857\n",
        "\n",
        "0.2"
       ]
      },
      {
       "output_type": "stream",
       "stream": "stdout",
       "text": [
        " option\n",
        "C-stat:  0.95\n",
        "\n"
       ]
      },
      {
       "metadata": {},
       "output_type": "display_data",
       "png": "[encoded data removed]",
       "text": [
        "<matplotlib.figure.Figure at 0x1667b940>"
       ]
      }
     ],
     "prompt_number": 12
    },
    {
     "cell_type": "markdown",
     "metadata": {},
     "source": [
      "It is better to choose max_features=\"auto\" as the C-stat is high."
     ]
    },
    {
     "cell_type": "heading",
     "level": 3,
     "metadata": {},
     "source": [
      "min_samples_leaf"
     ]
    },
    {
     "cell_type": "code",
     "collapsed": false,
     "input": [
      "results = []\n",
      "min_samples_leaf_options = [1, 2, 3, 4, 5, 6, 7, 8, 9, 10]\n",
      "\n",
      "for min_samples in min_samples_leaf_options:\n",
      "    model = RandomForestClassifier(n_estimators=1000, \n",
      "                                  oob_score=True, \n",
      "                                  n_jobs=1, \n",
      "                                  random_state=42, \n",
      "                                  max_features=\"auto\", \n",
      "                                  min_samples_leaf=min_samples)\n",
      "    model.fit(X_train, y_train)\n",
      "    print min_samples, \"min samples\"\n",
      "    roc = roc_auc_score(y_test, model.predict(X_test))\n",
      "    print \"C-stat: \", roc\n",
      "    results.append(roc)\n",
      "    print \"\"\n",
      "    \n",
      "pd.Series(results, min_samples_leaf_options).plot();"
     ],
     "language": "python",
     "metadata": {},
     "outputs": [
      {
       "output_type": "stream",
       "stream": "stdout",
       "text": [
        "1 min samples\n",
        "C-stat:  0.95\n",
        "\n",
        "2"
       ]
      },
      {
       "output_type": "stream",
       "stream": "stdout",
       "text": [
        " min samples\n",
        "C-stat:  0.957142857143\n",
        "\n",
        "3"
       ]
      },
      {
       "output_type": "stream",
       "stream": "stdout",
       "text": [
        " min samples\n",
        "C-stat:  0.964285714286\n",
        "\n",
        "4"
       ]
      },
      {
       "output_type": "stream",
       "stream": "stdout",
       "text": [
        " min samples\n",
        "C-stat:  0.964285714286\n",
        "\n",
        "5"
       ]
      },
      {
       "output_type": "stream",
       "stream": "stdout",
       "text": [
        " min samples\n",
        "C-stat:  0.964285714286\n",
        "\n",
        "6"
       ]
      },
      {
       "output_type": "stream",
       "stream": "stdout",
       "text": [
        " min samples\n",
        "C-stat:  0.964285714286\n",
        "\n",
        "7"
       ]
      },
      {
       "output_type": "stream",
       "stream": "stdout",
       "text": [
        " min samples\n",
        "C-stat:  0.964285714286\n",
        "\n",
        "8"
       ]
      },
      {
       "output_type": "stream",
       "stream": "stdout",
       "text": [
        " min samples\n",
        "C-stat:  0.964285714286\n",
        "\n",
        "9"
       ]
      },
      {
       "output_type": "stream",
       "stream": "stdout",
       "text": [
        " min samples\n",
        "C-stat: "
       ]
      },
      {
       "output_type": "stream",
       "stream": "stdout",
       "text": [
        " 0.957142857143\n",
        "\n",
        "10"
       ]
      },
      {
       "output_type": "stream",
       "stream": "stdout",
       "text": [
        " min samples\n",
        "C-stat:  0.957142857143\n",
        "\n"
       ]
      },
      {
       "metadata": {},
       "output_type": "display_data",
       "png": "[encoded data removed]",
       "text": [
        "<matplotlib.figure.Figure at 0x149d6470>"
       ]
      }
     ],
     "prompt_number": 23
    },
    {
     "cell_type": "markdown",
     "metadata": {},
     "source": [
      "We can observe that after min_samples_leaf>2 remains high till min_samples_leaf=8. so as a rule of thumb we can choose min_samples_leaf=5."
     ]
    },
    {
     "cell_type": "markdown",
     "metadata": {},
     "source": [
      "##Final model"
     ]
    },
    {
     "cell_type": "code",
     "collapsed": false,
     "input": [
      "model = RandomForestClassifier(n_estimators=1000, \n",
      "                              oob_score=True, \n",
      "                              n_jobs=1, \n",
      "                              random_state=42, \n",
      "                              max_features=\"auto\", \n",
      "                              min_samples_leaf=5)\n",
      "model.fit(X_train, y_train)\n",
      "roc = roc_auc_score(y_test, model.predict(X_test)).round(2)\n",
      "print \"C-stat: \", roc"
     ],
     "language": "python",
     "metadata": {},
     "outputs": [
      {
       "output_type": "stream",
       "stream": "stdout",
       "text": [
        "C-stat:  0.96\n"
       ]
      }
     ],
     "prompt_number": 28
    },
    {
     "cell_type": "markdown",
     "metadata": {},
     "source": [
      "### Model Comparison\n",
      "\n",
      "* Our final model is better than our first model. So, we are 96% successful in predicting malignant tumor.\n",
      "\n",
      "* Classification report gives Precision and Recall details.\n",
      "    * Precision is the fraction of correctly identified examples of a class (ratio of true positives to all positives).\n",
      "    * Recall is the fraction of observations classified in that class that was correctly classified.\n",
      "    * Where high precision relates to a 'low false positive rate', and high recall relates to a 'low false negative rate'.\n",
      "    * High scores for both show that the classifier is returning accurate results (high precision), as well as returning a majority of all positive results (high recall)."
     ]
    },
    {
     "cell_type": "code",
     "collapsed": false,
     "input": [
      "from sklearn.metrics import classification_report\n",
      "print classification_report(model.predict(X_test), y_test)"
     ],
     "language": "python",
     "metadata": {},
     "outputs": [
      {
       "output_type": "stream",
       "stream": "stdout",
       "text": [
        "             precision    recall  f1-score   support\n",
        "\n",
        "          0       0.94      0.99      0.97       100\n",
        "          1       0.99      0.92      0.95        75\n",
        "\n",
        "avg / total       0.96      0.96      0.96       175\n",
        "\n"
       ]
      }
     ],
     "prompt_number": 29
    },
    {
     "cell_type": "markdown",
     "metadata": {},
     "source": [
      "####Classificatio Report:(Interpretation)\n",
      "* From Classification report we can observe that Precition and Recall rates are high(0.96). So, we can say that our model has very low false positive rate and false negative rate. \n",
      "* That is, our model 4% of times falsely predict breast cancer and 4% of the times may miss a malignant case."
     ]
    },
    {
     "cell_type": "markdown",
     "metadata": {},
     "source": [
      "<B>Following ROC curve is created by plotting the true positive rate against the false positive rate.</B>\n",
      "* A better metric for binary classifer comparisons is AUC or area under the ROC curve(C-stat). More the AUC better the model.\n",
      "* ROC curve, is a graphical plot that illustrates the performance of a binary classifier system (i.e Random forest classifier)."
     ]
    },
    {
     "cell_type": "code",
     "collapsed": false,
     "input": [
      "\n",
      "from sklearn.metrics import roc_curve\n",
      "fpr, tpr, thresholds = roc_curve(y_test, model.predict_proba(X_test)[:,1])"
     ],
     "language": "python",
     "metadata": {},
     "outputs": [],
     "prompt_number": 17
    },
    {
     "cell_type": "code",
     "collapsed": false,
     "input": [
      "# Plot of a ROC curve for a specific class\n",
      "plt.figure()\n",
      "plt.plot(fpr, tpr, label='ROC curve (area = %0.2f)' % roc)\n",
      "plt.plot([0, 1], [0, 1], 'k--')\n",
      "plt.xlim([0.0, 1.0])\n",
      "plt.ylim([0.0, 1.05])\n",
      "plt.xlabel('False Positive Rate')\n",
      "plt.ylabel('True Positive Rate')\n",
      "plt.title('Receiver operating characteristic example')\n",
      "plt.legend(loc=\"lower right\")\n",
      "plt.show()"
     ],
     "language": "python",
     "metadata": {},
     "outputs": [
      {
       "metadata": {},
       "output_type": "display_data",
       "png": "[encoded data removed]",
       "text": [
        "<matplotlib.figure.Figure at 0x16427780>"
       ]
      }
     ],
     "prompt_number": 18
    },
    {
     "cell_type": "heading",
     "level": 3,
     "metadata": {},
     "source": [
      "Variable importance measures"
     ]
    },
    {
     "cell_type": "code",
     "collapsed": false,
     "input": [
      "model.feature_importances_"
     ],
     "language": "python",
     "metadata": {},
     "outputs": [
      {
       "metadata": {},
       "output_type": "pyout",
       "prompt_number": 19,
       "text": [
        "array([  8.10324738e-02,   7.87837396e-02,   1.03683379e-01,\n",
        "         2.06613593e-01,   1.39591911e-01,   1.51332634e-01,\n",
        "         1.60953633e-02,   5.74805989e-02,   7.16828439e-03,\n",
        "         1.13189793e-03,   2.28949320e-03,   1.64952399e-03,\n",
        "         2.23823328e-03,   7.02570854e-04,   1.85136680e-03,\n",
        "         0.00000000e+00,   6.55138368e-03,   1.16618931e-01,\n",
        "         5.25545181e-03,   1.95625500e-03,   2.80196703e-03,\n",
        "         1.48363443e-03,   1.67843815e-03,   1.75666362e-04,\n",
        "         1.16890149e-03,   0.00000000e+00,   1.06643080e-02])"
       ]
      }
     ],
     "prompt_number": 19
    },
    {
     "cell_type": "code",
     "collapsed": false,
     "input": [
      "# Simple version that shows all of the variables\n",
      "feature_importances = pd.Series(model.feature_importances_, index=X.columns)\n",
      "feature_importances.sort()\n",
      "feature_importances.plot(kind=\"barh\", figsize=(7,6));"
     ],
     "language": "python",
     "metadata": {},
     "outputs": [
      {
       "metadata": {},
       "output_type": "display_data",
       "png": "[encoded data removed]",
       "text": [
        "<matplotlib.figure.Figure at 0x15d59d30>"
       ]
      }
     ],
     "prompt_number": 20
    },
    {
     "cell_type": "code",
     "collapsed": false,
     "input": [
      "# Complex version that shows the summary view\n",
      "\n",
      "def graph_feature_importances(model, feature_names, autoscale=True, headroom=0.05, width=10, summarized_columns=None):\n",
      "    \"\"\"\n",
      "    By Mike Bernico\n",
      "    \n",
      "    Graphs the feature importances of a random decision forest using a horizontal bar chart. \n",
      "    Probably works but untested on other sklearn.ensembles.\n",
      "    \n",
      "    Parameters\n",
      "    ----------\n",
      "    ensemble = Name of the ensemble whose features you would like graphed.\n",
      "    feature_names = A list of the names of those featurs, displayed on the Y axis.\n",
      "    autoscale = True (Automatically adjust the X axis size to the largest feature +.headroom) / False = scale from 0 to 1\n",
      "    headroom = used with autoscale, .05 default\n",
      "    width=figure width in inches\n",
      "    summarized_columns = a list of column prefixes to summarize on, for dummy variables (e.g. [\"day_\"] would summarize all day_ vars\n",
      "    \"\"\"\n",
      "    \n",
      "    if autoscale:\n",
      "        x_scale = model.feature_importances_.max()+ headroom\n",
      "    else:\n",
      "        x_scale = 1\n",
      "    \n",
      "    feature_dict=dict(zip(feature_names, model.feature_importances_))\n",
      "    \n",
      "    if summarized_columns: \n",
      "        #some dummy columns need to be summarized\n",
      "        for col_name in summarized_columns: \n",
      "            #sum all the features that contain col_name, store in temp sum_value\n",
      "            sum_value = sum(x for i, x in feature_dict.iteritems() if col_name in i )  \n",
      "            \n",
      "            #now remove all keys that are part of col_name\n",
      "            keys_to_remove = [i for i in feature_dict.keys() if col_name in i ]\n",
      "            for i in keys_to_remove:\n",
      "                feature_dict.pop(i)\n",
      "            #lastly, read the summarized field\n",
      "            feature_dict[col_name] = sum_value\n",
      "        \n",
      "    results = pd.Series(feature_dict.values(), index=feature_dict.keys())\n",
      "    results.sort(axis=1)\n",
      "    results.plot(kind=\"barh\", figsize=(width,len(results)/4), xlim=(0,x_scale))\n",
      "    \n",
      "graph_feature_importances(model, X.columns, summarized_columns=categorical_variables)"
     ],
     "language": "python",
     "metadata": {},
     "outputs": [
      {
       "metadata": {},
       "output_type": "display_data",
       "png": "[encoded data removed]",
       "text": [
        "<matplotlib.figure.Figure at 0x15d59ac8>"
       ]
      }
     ],
     "prompt_number": 21
    },
    {
     "cell_type": "markdown",
     "metadata": {},
     "source": [
      "###Bar chart indicates the importance of the variables in descending order:\n",
      "* <B>Bare nuclei, normal nucleoli and bland chromatin</B> are signs of benignity. So, they have more importance in determining if a tumor is malignant or benign.\n",
      "* <B>Uniformity of the cell size / shape:</B> Cancer cells tend to vary in size and shape. That is why these parameters are valuable in determining whether the cells are cancerous or not.\n",
      "* <B>Epithelial cell size:</B> Epithelial cell that are significantly enlarge may be a malignant cell. So, size of the cell matters. \n",
      "* <B>Clump thickness:</B>  Benign cells are tend to be grouped in monolayers. While cancerous cells are often grouped in multilayers. Therefore clump thickness is one of the important variable\n",
      "* <B>Marginal adhesion:</B> Normal cells tend to stick together. Cancer cells tend to lose this ability. So, less adhesion is a sign of malignancy.\n",
      "* <B>Mitoses:</B> The mitotic activity (how much the tumor cells are dividing) or Mitotic count is an important parameter for the prognosis of breast cancer. However, it is difficult to detect mitosis and make an accurate prognosis. So, it has little less importance than other parameters."
     ]
    },
    {
     "cell_type": "code",
     "collapsed": false,
     "input": [],
     "language": "python",
     "metadata": {},
     "outputs": []
    }
   ],
   "metadata": {}
  }
 ]
}